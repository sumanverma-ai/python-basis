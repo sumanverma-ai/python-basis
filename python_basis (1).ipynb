{
  "nbformat": 4,
  "nbformat_minor": 0,
  "metadata": {
    "colab": {
      "provenance": [],
      "toc_visible": true
    },
    "kernelspec": {
      "name": "python3",
      "display_name": "Python 3"
    },
    "language_info": {
      "name": "python"
    }
  },
  "cells": [
    {
      "cell_type": "code",
      "execution_count": null,
      "metadata": {
        "id": "UgTzvNlDQwuf"
      },
      "outputs": [],
      "source": [
        "# PYTHON BASIS\n",
        "-"
      ]
    },
    {
      "cell_type": "markdown",
      "source": [
        "1) What is Python, and why is it popular\n",
        "- A PYTHON IS A PROGRAMMING LANGUAGE WHICH IS A FORMAL LANGUAGE FOR CREATING INSTRUCTIONS FOR A COMPUTER\n",
        "- IT IS POPULAR BECAUSE IT IS WIDELY USED IN INDUSTRIES AND THERE ARE LOT OF LIBRARIES IN PYTHON AND IT IS VERY VERSATILE, IT HAS AN ACTIVE COMMUNITY\n",
        "\n",
        "2)What is an interpreter in Python\n",
        "- A PYTHON INTERPRETER IS A PROGRAM THAT READS AND EXECUTES PYTHON CODE .\n",
        "\n",
        "3)What are pre-defined keywords in Python\n",
        "- KEY WORDS ARE PREDEFINED WORDS THAT HOLDS A SPECIAL MEANING AND HAVE SPECIFIC PURPOSE IN PYTHON\n",
        "- SOE OF KEY WORDS ARE FALSE , NONE , CLASS, TRUE , AND , AS AND MANY MORE\n",
        "\n",
        "4)Can keywords be used as variable names\n",
        "- NO WE CANNOT USE KEYWORDS AS VARIABLES\n",
        "\n",
        "5) What is mutability in Python\n",
        "- MUTABILITY IN PYTHON IS NOTHING BUT CHANGE , WE CAN DO CHANGES IN LIST\n",
        "\n",
        "6)  Why are lists mutable, but tuples are immutable\n",
        "- AS TUPLES DOES NOT SUPPORT ITEM ASSIGNMENT\n",
        "\n",
        "7)What is the difference between “==” and “is” operators in Python\n",
        "- THE \"==\" OPERATOR COMPARES THE VALUE OF 2 OBJECTS , WHILE \"IS\" OPERATOR COMPARES THE IDENTITY OF 2 OBJECTS\n",
        "\n",
        "8)What are logical operators in Python\n",
        "\n",
        "-A LOGICAL OPERATOR IS A SYMBOL OR WORD USED TO CONNECT 2 OR MORE EXPRESSION SUCH THAT IT WILL PRODUCE BOOLEAN VALUE\n",
        "\n",
        "9)What is type casting in Python\n",
        "- THE PROCESS OF CONVERTING 1 DATA TYPE TO OTHER\n",
        "\n",
        "10)What is the difference between implicit and explicit type casting\n",
        "- IMPLICIT : THE COMPILER AUTOMATICALLY CONVERTS DATA FROM ONE TYPE TO OTHER\n",
        "- EXPLICT : THE PROGRAMMER MANUALLY CONVERTS DATA FROM 1 TYPE TO ANOTHER\n",
        "\n",
        "11)What is the purpose of conditional statements in Python\n",
        "- HELPS TO CODE DECISION BASES ON SOE PRECONDITIONS\n",
        "\n",
        "12)How does the elif statement work\n",
        "- IF WE HAVE MORE THAN 2 CONDITIONS THEN WE CAN USE ELIF : WHEN IF STATEMENT IF FALSE ELIF STATEMENT WILL BE EXECUTED , IF THIS STATEMENT IS FALSE IT WILL MOVE TO ELSE STATEMENT .\n",
        "\n",
        "13) What is the difference between for and while loops\n",
        "-WHILE LOOP : REPEATEDLY EXECUTED A BLOCK OF CODE UNTILL CONDITION IS MET\n",
        "- FOR LOOP : ITERATE OVER A SEQUENCE OF ELEMENTS\n",
        "\n",
        "14) Describe a scenario where a while loop is more suitable than a for loop.\n",
        "-WHERE THE NUMBER OF ITERATIONS IS NOT PREDETERMINED AND DEPENDS ON SOME DYNAMIC CONDITIONS\n",
        "\n",
        "\n",
        "\n",
        "\n",
        "\n",
        "\n"
      ],
      "metadata": {
        "id": "QHjWhyIAURWb"
      }
    },
    {
      "cell_type": "code",
      "source": [],
      "metadata": {
        "id": "ODRXDQ0VdMVC"
      },
      "execution_count": null,
      "outputs": []
    },
    {
      "cell_type": "markdown",
      "source": [
        "PRACTICALS"
      ],
      "metadata": {
        "id": "60EAa2HtdRSa"
      }
    },
    {
      "cell_type": "code",
      "source": [
        "#  Write a Python program to print \"Hello, World!y\n",
        "'''\n",
        "print (\"HELLO WORLD\")\n",
        "'''"
      ],
      "metadata": {
        "id": "-vvWbrScdXUb"
      },
      "execution_count": null,
      "outputs": []
    },
    {
      "cell_type": "code",
      "source": [
        "# Write a Python program that displays your name and age8\n",
        "'''\n",
        "print (\"name : suman\")\n",
        "print(\"age : 24)\n",
        "'''"
      ],
      "metadata": {
        "id": "X90HV-nUd7AL"
      },
      "execution_count": null,
      "outputs": []
    },
    {
      "cell_type": "code",
      "source": [
        "Write code to print all the pre-defined keywords in Python using the keyword library8\n",
        "\n",
        "'''\n",
        "help(\"keywords\")\n",
        "'''"
      ],
      "metadata": {
        "id": "awaLpuUEe1nQ"
      },
      "execution_count": null,
      "outputs": []
    },
    {
      "cell_type": "code",
      "source": [
        "# Write a program that checks if a given word is a Python keyword.\n",
        "'''\n",
        "a= 'for'\n",
        "iskeyword(a)\n",
        "'''\n"
      ],
      "metadata": {
        "id": "KGCMeyydfLwX"
      },
      "execution_count": null,
      "outputs": []
    },
    {
      "cell_type": "code",
      "source": [
        " #Create a list and tuple in Python, and demonstrate how attempting to change an element works differently\n",
        "for each.\n"
      ],
      "metadata": {
        "id": "U6MPHvTHgrsB"
      },
      "execution_count": null,
      "outputs": []
    },
    {
      "cell_type": "code",
      "source": [
        "#Write a function to demonstrate the behavior of mutable and immutable arguments.\n",
        "''' MUTABLE\n",
        "1,2,3,4,3+5j, true, \"bijay\"\n",
        "list-cont[6]=\"bijay\"\n",
        "list_cont[0]=100\n",
        "UNMUTABLE\n",
        "b=\"pwskills\"\n",
        "b[o]=\"i\"\n",
        "error"
      ],
      "metadata": {
        "id": "KNjP1h4EhCGq"
      },
      "execution_count": null,
      "outputs": []
    },
    {
      "cell_type": "code",
      "source": [
        "#Write a program that performs basic arithmetic operations on two user-input numbers.\n",
        "'''\n",
        "a=3\n",
        "b=2\n",
        "a+b\n",
        "'''"
      ],
      "metadata": {
        "id": "JjWOvVQCjfmn"
      },
      "execution_count": null,
      "outputs": []
    },
    {
      "cell_type": "code",
      "source": [
        "#Write a program to demonstrate the use of logical operators.\n",
        "'''\n",
        "True and True\n",
        "True or True\n",
        "not False\n",
        "'''"
      ],
      "metadata": {
        "id": "wBtyA0-zjogv"
      },
      "execution_count": null,
      "outputs": []
    },
    {
      "cell_type": "code",
      "source": [
        " #Write a Python program to convert user input from string to integer, float, and boolean types.\n",
        " '''\n",
        " a= 2\n",
        " type (a)\n",
        " int\n",
        " b=float(a)\n",
        " b\n",
        " 2.0\n",
        " type(b)\n",
        " float\n",
        " c=str(a)\n",
        " c\n",
        " \"5\"\n",
        " type(c)\n",
        " str\n",
        " '''"
      ],
      "metadata": {
        "id": "VO2GJaphkjDJ"
      },
      "execution_count": null,
      "outputs": []
    },
    {
      "cell_type": "code",
      "source": [
        "#Write code to demonstrate type casting with list elements\n",
        "''' adding string\n",
        "a= \"AJAY\"\n",
        "b=\"kumar gupta\"\n",
        "a+b\n",
        "Ajay kumar gupta\n",
        "'''\n"
      ],
      "metadata": {
        "id": "f2oN968glYIy"
      },
      "execution_count": null,
      "outputs": []
    },
    {
      "cell_type": "code",
      "source": [
        "#Write a program that checks if a number is positive, negative, or zero.\n",
        "'''\n",
        "number= -9\n",
        "if number > 0:\n",
        "  print (\"number is positive\")\n",
        "elif number == 0 :\n",
        "  print(\"number is 0\")\n",
        "else :\n",
        "  print (\"number is negative\")\n",
        "  '''"
      ],
      "metadata": {
        "id": "cONJXuC7rEvX"
      },
      "execution_count": null,
      "outputs": []
    },
    {
      "cell_type": "code",
      "source": [
        "# Write a for loop to print numbers from 1 to 10.\n",
        "'''\n",
        "i=1\n",
        "for i in range(1, 11):\n",
        "    print(i)\n",
        "    '''\n"
      ],
      "metadata": {
        "id": "Q1Kt_0YWtG_6"
      },
      "execution_count": null,
      "outputs": []
    },
    {
      "cell_type": "code",
      "source": [
        "Write a Python program to find the sum of all even numbers between 1 and 50\n",
        "'''\n",
        "sum_even = 0\n",
        "for num in range(2, 51, 2):\n",
        "    sum_even += num\n",
        "    print(\"Sum of even numbers between 1 and 50:\", sum_even)\n",
        "    '''"
      ],
      "metadata": {
        "id": "rB0I3ikbufQl"
      },
      "execution_count": null,
      "outputs": []
    },
    {
      "cell_type": "code",
      "source": [
        "14. Write a program to reverse a string using a while loop.\n",
        "'''\n",
        "string = input(\"Enter a string: \")\n",
        "reversed_string = \"\"\n",
        "index = len(string) - 1\n",
        "while index >= 0:\n",
        "    reversed_string += string[index]\n",
        "    index -= 1\n",
        "    print(\"Reversed string:\", reversed_string)\n",
        "    '''"
      ],
      "metadata": {
        "id": "yO4h_PYkZyt7"
      },
      "execution_count": null,
      "outputs": []
    },
    {
      "cell_type": "code",
      "source": [
        "15. Write a Python program to calculate the factorial of a number provided by the user using a while loop.\n",
        "'''\n",
        "num = int(input(\"Enter a number: \"))\n",
        "factorial = 1\n",
        "i = num\n",
        "while i > 0:\n",
        "    factorial *= i\n",
        "    i -= 1\n",
        "    print(f\"Factorial of {num} is {factorial}\")\n",
        "    '''"
      ],
      "metadata": {
        "id": "7xnOlZlFaNWR"
      },
      "execution_count": null,
      "outputs": []
    },
    {
      "cell_type": "code",
      "source": [],
      "metadata": {
        "id": "-pCAbIUWaQvY"
      },
      "execution_count": null,
      "outputs": []
    }
  ]
}